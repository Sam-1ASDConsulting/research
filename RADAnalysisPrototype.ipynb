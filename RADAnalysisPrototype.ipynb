{
 "cells": [
  {
   "cell_type": "code",
   "execution_count": null,
   "metadata": {},
   "outputs": [],
   "source": [
    "#################################################################################################################\n",
    "## Prototype for reading hl7, parsing required fields, analyzing unstructured reports to create a \n",
    "## summary document for coders to utilize and assist with claims processing\n",
    "#\n",
    "## Basic components are; HL7 Input and parsing, data prep, analysis and summary report generation.\n",
    "## Assumptions: Using HL7 v2.3 ORU sample from internet site as a basis format for fictitious patient encounters\n",
    "##              Sample input file: RADORUSample.hl7\n",
    "##              Also using RADIOLOGY CPT codes for various radiology modalities from an internet site.\n",
    "#################################################################################################################"
   ]
  },
  {
   "cell_type": "code",
   "execution_count": 13,
   "metadata": {},
   "outputs": [],
   "source": [
    "#### Dependencies\n",
    "## Libraries\n",
    "import pandas as pd\n",
    "\n",
    "## Proprietary Dictionaries and Functions\n",
    "from sam_2018_cpt_rad import * # 2018 RAD CPT codes and search functions"
   ]
  },
  {
   "cell_type": "code",
   "execution_count": 14,
   "metadata": {},
   "outputs": [
    {
     "name": "stdout",
     "output_type": "stream",
     "text": [
      "        RECFAC     MSGDATETIME     TYPE           CNTRLID PROCID VERID\n",
      "0  accountID01  20110126163020  ORU^R01  MessageControlID      P   2.3\n",
      "1  accountID02  20090725163020  ORU^R01  MessageControlID      P   2.3\n",
      "2  accountID03  20110616163020  ORU^R01  MessageControlID      P   2.3\n",
      "     ALTPATID           PATNAME\n",
      "0  1234567890      SMITH^JOHN^M\n",
      "1  2234567890   BEAVERS^ETHEL^A\n",
      "2  3234567890  SWANSON^RONALD^U\n",
      "                                           REFDOCTOR\n",
      "0  AttendingPhysicianID^AttendingPhysicianLastNam...\n",
      "1  AttendingPhysicianID^AttendingPhysicianLastNam...\n",
      "2  AttendingPhysicianID^AttendingPhysicianLastNam...\n",
      "  PLACERORDNUM FILLERORDNUM          USID  \\\n",
      "0            1   Placer1234  Filler156789   \n",
      "1            1   Placer2234  Filler256789   \n",
      "2            1   Placer3234  Filler356789   \n",
      "\n",
      "                                         PRIORITYOBR      OBSRVENDDATETIME  \\\n",
      "0     12345^MRI ABDOMEN WITH CONTRAST^Imaging Center        20110101152535   \n",
      "1  222222^MRI BRAIN WITH AND WITHOUT CONTRAST^Ima...  ObservationDate/Time   \n",
      "2               333333^LEFT FOOT XRAY^IMAGING CENTER        20110602163020   \n",
      "\n",
      "                  SPECSOURCE  \\\n",
      "0  SpecimenReceivedDate/Time   \n",
      "1  SpecimenReceivedDate/Time   \n",
      "2             20110602163020   \n",
      "\n",
      "                                        ORDCALLPHONE           CHRGTOPRACTICE  \\\n",
      "0  OrderingProviderID^OrderingProviderLastName^Or...  ResultReportedDate/Time   \n",
      "1  OrderingProviderID^OrderingProviderLastName^Or...  ResultReportedDate/Time   \n",
      "2  OrderingProviderID^OrderingProviderLastName^Or...  ResultReportedDate/Time   \n",
      "\n",
      "  PARENTRESULT  \n",
      "0          NaN  \n",
      "1          NaN  \n",
      "2          NaN  \n"
     ]
    }
   ],
   "source": [
    "### INPUT HL7 & Parse required fields to dataframe\n",
    "## Read all patient ORU data messages. Assume each Patient encounter message has 1 segment per row in hl7 file.\n",
    "## Segments are; MSH, PID, PV1, OBR, however handle multiple sequential OBX segments in next logic section\n",
    "column_names = [i for i in range(0, 50)]\n",
    "orm_df = pd.read_csv('RADORUSample.hl7', delimiter='|', header=None, names=column_names, dtype='str')\n",
    "\n",
    "## Create dataframe for each segment type\n",
    "msh_df = orm_df.loc[orm_df[0]=='MSH']\n",
    "pid_df = orm_df.loc[orm_df[0]=='PID']\n",
    "pv1_df = orm_df.loc[orm_df[0]=='PV1']\n",
    "obr_df = orm_df.loc[orm_df[0]=='OBR']\n",
    "#\n",
    "# 1. Filter out only required fields from segments and store in new segment dataframes\n",
    "# 2. Transpose (.T) so that row of segment info is now in column form\n",
    "# 3. reset_index which are now column headers due to Transpose\n",
    "#\n",
    "claim_msh_df = pd.DataFrame(data=[msh_df[5], msh_df[6], msh_df[8], msh_df[9], msh_df[10], msh_df[11]],\n",
    "                            index=['RECFAC','MSGDATETIME','TYPE','CNTRLID','PROCID','VERID']).T.reset_index(drop=True)\n",
    "claim_pid_df = pd.DataFrame(data=[pid_df[3], pid_df[5]], \n",
    "                            index=['ALTPATID','PATNAME']).T.reset_index(drop=True)\n",
    "claim_pv1_df = pd.DataFrame(data=[pv1_df[7]],\n",
    "                            index=['REFDOCTOR']).T.reset_index(drop=True)\n",
    "claim_obr_df = pd.DataFrame(data=[obr_df[1], obr_df[2],obr_df[3], obr_df[4],obr_df[7],obr_df[14], obr_df[16], obr_df[22], obr_df[23]],\n",
    "                            index=['PLACERORDNUM','FILLERORDNUM','USID','PRIORITYOBR','OBSRVENDDATETIME', 'SPECSOURCE',\n",
    "                                   'ORDCALLPHONE','CHRGTOPRACTICE','PARENTRESULT']).T.reset_index(drop=True)\n",
    "print(claim_msh_df)\n",
    "print(claim_pid_df)\n",
    "print(claim_pv1_df)\n",
    "print(claim_obr_df)"
   ]
  },
  {
   "cell_type": "code",
   "execution_count": 15,
   "metadata": {},
   "outputs": [
    {
     "data": {
      "text/html": [
       "<div>\n",
       "<style scoped>\n",
       "    .dataframe tbody tr th:only-of-type {\n",
       "        vertical-align: middle;\n",
       "    }\n",
       "\n",
       "    .dataframe tbody tr th {\n",
       "        vertical-align: top;\n",
       "    }\n",
       "\n",
       "    .dataframe thead th {\n",
       "        text-align: right;\n",
       "    }\n",
       "</style>\n",
       "<table border=\"1\" class=\"dataframe\">\n",
       "  <thead>\n",
       "    <tr style=\"text-align: right;\">\n",
       "      <th></th>\n",
       "      <th>RECFAC</th>\n",
       "      <th>MSGDATETIME</th>\n",
       "      <th>TYPE</th>\n",
       "      <th>CNTRLID</th>\n",
       "      <th>PROCID</th>\n",
       "      <th>VERID</th>\n",
       "      <th>ALTPATID</th>\n",
       "      <th>PATNAME</th>\n",
       "      <th>REFDOCTOR</th>\n",
       "      <th>PLACERORDNUM</th>\n",
       "      <th>FILLERORDNUM</th>\n",
       "      <th>USID</th>\n",
       "      <th>PRIORITYOBR</th>\n",
       "      <th>OBSRVENDDATETIME</th>\n",
       "      <th>SPECSOURCE</th>\n",
       "      <th>ORDCALLPHONE</th>\n",
       "      <th>CHRGTOPRACTICE</th>\n",
       "      <th>PARENTRESULT</th>\n",
       "    </tr>\n",
       "  </thead>\n",
       "  <tbody>\n",
       "    <tr>\n",
       "      <th>0</th>\n",
       "      <td>accountID01</td>\n",
       "      <td>20110126163020</td>\n",
       "      <td>ORU^R01</td>\n",
       "      <td>MessageControlID</td>\n",
       "      <td>P</td>\n",
       "      <td>2.3</td>\n",
       "      <td>1234567890</td>\n",
       "      <td>SMITH^JOHN^M</td>\n",
       "      <td>AttendingPhysicianID^AttendingPhysicianLastNam...</td>\n",
       "      <td>1</td>\n",
       "      <td>Placer1234</td>\n",
       "      <td>Filler156789</td>\n",
       "      <td>12345^MRI ABDOMEN WITH CONTRAST^Imaging Center</td>\n",
       "      <td>20110101152535</td>\n",
       "      <td>SpecimenReceivedDate/Time</td>\n",
       "      <td>OrderingProviderID^OrderingProviderLastName^Or...</td>\n",
       "      <td>ResultReportedDate/Time</td>\n",
       "      <td>NaN</td>\n",
       "    </tr>\n",
       "    <tr>\n",
       "      <th>1</th>\n",
       "      <td>accountID02</td>\n",
       "      <td>20090725163020</td>\n",
       "      <td>ORU^R01</td>\n",
       "      <td>MessageControlID</td>\n",
       "      <td>P</td>\n",
       "      <td>2.3</td>\n",
       "      <td>2234567890</td>\n",
       "      <td>BEAVERS^ETHEL^A</td>\n",
       "      <td>AttendingPhysicianID^AttendingPhysicianLastNam...</td>\n",
       "      <td>1</td>\n",
       "      <td>Placer2234</td>\n",
       "      <td>Filler256789</td>\n",
       "      <td>222222^MRI BRAIN WITH AND WITHOUT CONTRAST^Ima...</td>\n",
       "      <td>ObservationDate/Time</td>\n",
       "      <td>SpecimenReceivedDate/Time</td>\n",
       "      <td>OrderingProviderID^OrderingProviderLastName^Or...</td>\n",
       "      <td>ResultReportedDate/Time</td>\n",
       "      <td>NaN</td>\n",
       "    </tr>\n",
       "    <tr>\n",
       "      <th>2</th>\n",
       "      <td>accountID03</td>\n",
       "      <td>20110616163020</td>\n",
       "      <td>ORU^R01</td>\n",
       "      <td>MessageControlID</td>\n",
       "      <td>P</td>\n",
       "      <td>2.3</td>\n",
       "      <td>3234567890</td>\n",
       "      <td>SWANSON^RONALD^U</td>\n",
       "      <td>AttendingPhysicianID^AttendingPhysicianLastNam...</td>\n",
       "      <td>1</td>\n",
       "      <td>Placer3234</td>\n",
       "      <td>Filler356789</td>\n",
       "      <td>333333^LEFT FOOT XRAY^IMAGING CENTER</td>\n",
       "      <td>20110602163020</td>\n",
       "      <td>20110602163020</td>\n",
       "      <td>OrderingProviderID^OrderingProviderLastName^Or...</td>\n",
       "      <td>ResultReportedDate/Time</td>\n",
       "      <td>NaN</td>\n",
       "    </tr>\n",
       "  </tbody>\n",
       "</table>\n",
       "</div>"
      ],
      "text/plain": [
       "        RECFAC     MSGDATETIME     TYPE           CNTRLID PROCID VERID  \\\n",
       "0  accountID01  20110126163020  ORU^R01  MessageControlID      P   2.3   \n",
       "1  accountID02  20090725163020  ORU^R01  MessageControlID      P   2.3   \n",
       "2  accountID03  20110616163020  ORU^R01  MessageControlID      P   2.3   \n",
       "\n",
       "     ALTPATID           PATNAME  \\\n",
       "0  1234567890      SMITH^JOHN^M   \n",
       "1  2234567890   BEAVERS^ETHEL^A   \n",
       "2  3234567890  SWANSON^RONALD^U   \n",
       "\n",
       "                                           REFDOCTOR PLACERORDNUM  \\\n",
       "0  AttendingPhysicianID^AttendingPhysicianLastNam...            1   \n",
       "1  AttendingPhysicianID^AttendingPhysicianLastNam...            1   \n",
       "2  AttendingPhysicianID^AttendingPhysicianLastNam...            1   \n",
       "\n",
       "  FILLERORDNUM          USID  \\\n",
       "0   Placer1234  Filler156789   \n",
       "1   Placer2234  Filler256789   \n",
       "2   Placer3234  Filler356789   \n",
       "\n",
       "                                         PRIORITYOBR      OBSRVENDDATETIME  \\\n",
       "0     12345^MRI ABDOMEN WITH CONTRAST^Imaging Center        20110101152535   \n",
       "1  222222^MRI BRAIN WITH AND WITHOUT CONTRAST^Ima...  ObservationDate/Time   \n",
       "2               333333^LEFT FOOT XRAY^IMAGING CENTER        20110602163020   \n",
       "\n",
       "                  SPECSOURCE  \\\n",
       "0  SpecimenReceivedDate/Time   \n",
       "1  SpecimenReceivedDate/Time   \n",
       "2             20110602163020   \n",
       "\n",
       "                                        ORDCALLPHONE           CHRGTOPRACTICE  \\\n",
       "0  OrderingProviderID^OrderingProviderLastName^Or...  ResultReportedDate/Time   \n",
       "1  OrderingProviderID^OrderingProviderLastName^Or...  ResultReportedDate/Time   \n",
       "2  OrderingProviderID^OrderingProviderLastName^Or...  ResultReportedDate/Time   \n",
       "\n",
       "  PARENTRESULT  \n",
       "0          NaN  \n",
       "1          NaN  \n",
       "2          NaN  "
      ]
     },
     "execution_count": 15,
     "metadata": {},
     "output_type": "execute_result"
    }
   ],
   "source": [
    "### Data scrub and prep for analytics\n",
    "## Data Scrub requirements TBD\n",
    "\n",
    "## Create final aggregated ORM dataframe based on individual claims_<segment>_df by joining each segment df together\n",
    "#orm_claim_df = pd.DataFrame(data=claim_msh_df)\n",
    "#orm_claim_df = orm_claim_df.join(claim_pid_df,lsuffix='_MSH', rsuffix='_PID')\n",
    "#orm_claim_df = orm_claim_df.join(claim_pv1_df,lsuffix='_PID', rsuffix='_PV1')\n",
    "#orm_claim_df = orm_claim_df.join(claim_obr_df,lsuffix='_PV1', rsuffix='_OBR')\n",
    "\n",
    "# Switch from using a .join to .concat cause it seems simpler.\n",
    "new_orm_claim_df = pd.concat([claim_msh_df,claim_pid_df,claim_pv1_df,claim_obr_df], sort=False, axis=1)\n",
    "new_orm_claim_df.head()"
   ]
  },
  {
   "cell_type": "code",
   "execution_count": 16,
   "metadata": {},
   "outputs": [
    {
     "name": "stdout",
     "output_type": "stream",
     "text": [
      "Created report filename for this patient ==> PAT1234567890_20110126163020_RADRPT.txt\n",
      "closed this patient report file\n",
      "Created report filename for this patient ==> PAT2234567890_20090725163020_RADRPT.txt\n",
      "closed this patient report file\n",
      "Created report filename for this patient ==> PAT3234567890_20110616163020_RADRPT.txt\n",
      "closed this patient report file\n",
      "PROCESSED ALL PATIENTS RAD REPORTS\n"
     ]
    }
   ],
   "source": [
    "### CREATE RADIOLOGY REPORT:\n",
    "### For each patient encounter aggregate all the appropriate OBX segments that make up the patients unstructured\n",
    "### Radiology Report. One report for each patient encounter message. Files will be output to current directory with\n",
    "### following name convention format:  \"PAT<MRN number>_<Encounter date>_RADRPT.txt\"\n",
    "#\n",
    "# Parse out all OBX segments for all patients\n",
    "obx_df = orm_df.loc[orm_df[0]=='OBX']\n",
    "\n",
    "# Transform all OBX segments into a row per patient  \n",
    "claim_obx_df = pd.DataFrame(data=[obx_df[1], obx_df[2], obx_df[3], obx_df[5], obx_df[11]],\n",
    "                            index=['VALTYPE','OBSRVID','SUBID', 'OBSRVVAL','LASTOBSRV']).T.reset_index(drop=True)\n",
    "\n",
    "## With OBX segments create a radiology report document for each patient by aggregating OBX segments for patient \n",
    "## NOTE: The OBX segments are used to contain an unstructured text report. One OBX segment per line of the report. \n",
    "##  The number of OBX segments will vary (1 to many)\n",
    "#\n",
    "# Patient totals from PID df and total OBX segments from OBX df\n",
    "total_patients = len(claim_pid_df)\n",
    "total_obx_segments = len (claim_obx_df)\n",
    "\n",
    "# Loop thru all patients and create a new RAD report file for each one\n",
    "patient_index = 0\n",
    "obx_index = 0 \n",
    "while (patient_index < total_patients):         \n",
    "    report_filename = \"PAT\" + claim_pid_df.iloc[patient_index,0] + \"_\" + claim_msh_df.iloc[patient_index,1] + \"_RADRPT.txt\"\n",
    "    f = open(report_filename, \"x\")\n",
    "    print(\"Created report filename for this patient ==>\", report_filename)\n",
    "\n",
    "    #   Parse OBR and write to file\n",
    "    claim_obr_df.iloc[patient_index,4]\n",
    "    f.write(claim_obr_df.iloc[patient_index,4] + '\\n')\n",
    "    \n",
    "    #   Parse 1st OBX and write unstructured text to file\n",
    "    f.write(str(claim_obx_df.iloc[obx_index,3]) + '\\n')\n",
    "    \n",
    "    #   loop through any remaining OBX segments for this patient\n",
    "    obx_index = obx_index + 1\n",
    "    obxseg_done = False\n",
    "    while (obx_index < total_obx_segments) and (obxseg_done == False) :\n",
    "        if claim_obx_df.iloc[obx_index,0] != '1' :\n",
    "            # print remaining OBX segments, 1 line/OBX segment to rad report    \n",
    "            f.write(str(claim_obx_df.iloc[obx_index,3]) + '\\n')\n",
    "            obx_index = obx_index + 1\n",
    "        else : \n",
    "            obxseg_done = True\n",
    "        \n",
    "    # Increment patient index counter            \n",
    "    patient_index = patient_index + 1\n",
    "\n",
    "    f.close() \n",
    "    print(\"closed this patient report file\")\n",
    "    \n",
    "print (\"PROCESSED ALL PATIENTS RAD REPORTS\")"
   ]
  },
  {
   "cell_type": "code",
   "execution_count": null,
   "metadata": {},
   "outputs": [],
   "source": [
    "### Analyze unstructured radiology reports using NLP techniques\n",
    "### See NLP_Play_CPT_MRI.ipynb"
   ]
  },
  {
   "cell_type": "code",
   "execution_count": null,
   "metadata": {},
   "outputs": [],
   "source": [
    "### Create a summary document for coders\n",
    "## This will display metrics about the unstructured radiology and make recommendations on coding based on analysis\n"
   ]
  },
  {
   "cell_type": "code",
   "execution_count": null,
   "metadata": {},
   "outputs": [],
   "source": []
  },
  {
   "cell_type": "code",
   "execution_count": null,
   "metadata": {},
   "outputs": [],
   "source": []
  },
  {
   "cell_type": "code",
   "execution_count": 5,
   "metadata": {},
   "outputs": [
    {
     "name": "stdout",
     "output_type": "stream",
     "text": [
      "{'70450': 'CT BRAIN without contrast', '70460': 'CT BRAIN with contrast', '70470': 'CT BRAIN w/o & with contrast', '70480': 'CT ORBIT/SKULL without contrast', '70481': 'CT ORBITS/SKULL with contrast', '70482': 'CT ORBIT/SKULL w/o & with contrast', '70486': 'CT MAXILLOFACIAL without contrast', '70488': 'CT FACE w/o & with contrast', '70490': 'CT NECK SOFT TISSUE without contrast', '70491': 'CT NECT SOFT TISSUE with contrast', '70492': 'CT NECK SOFT TISSUE w/o & with contrast', '70496': 'CT ANGIO HEAD with and/or w/o contrast', '70498': 'CT ANGIO/NECK with and/or w/o contrast', '71250': 'CT CHEST without contrast', '71260': 'CT CHEST with contrast', '71270': 'CT CHEST w/o & with contrast', '71275': 'CT ANGIOGRAPHY/CHEST with and/or w/o contrast', '72125': 'CT CERVICAL SPINE without contrast', '72126': 'CT CERVICAL SPINE with contrast', '72127': 'CT CERVICAL SPINE w/o & with contrast', '72128': 'CT THORACIC SPINE without contrast', '72129': 'CT THORACIC SPINE with contrast', '72130': 'CT THORACIC SPINE w/o & with contrast', '72131': 'CT LUMBAR SPINE without contrast', '72132': 'CT LUMBAR SPINE with contrast', '72133': 'CT LUMBAR SPINE w/o & with contrast', '72191': 'CT ANGIO PELVIS with and/or w/o contrast', '72192': 'CT PELVIS without contrast', '72193': 'CT PELVIS with contrast', '72194': 'CT PELVIS w/o & with contrast', '73200': 'CT UPPER EXTREMITY without contrast', '73201': 'CT UPPER EXTREMITY with contrast', '73202': 'CT UPPER EXTREMITY w/o & with contrast', '73206': 'CT ANGIO UPPER EXTREM with and/or w/o contrast', '73700': 'CT LOWER EXTREMITY without contrast', '73701': 'CT LOWER EXTREMITY with contrast', '73702': 'CT LOWER EXTREMITY w/o & with contrast', '73706': 'CT ANGIO LOWER EXT with and/or w/o contrast', '74150': 'CT ABDOMEN w/o contrast', '74160': 'CT ABDOMEN with contrast', '74170': 'CT ABDOMEN w/o & with contrast', '74174': 'CT ANGIO ABD & PELVIS contrast with & w/o contrast', '74175': 'CT ANGIO ABD with contrast/noncontrast', '74176': 'CT ABDOMEN & PELVIS w/o contrast', '74177': 'CT ABDOMEN & PELVIS with contrast', '74178': 'CT ABDOMEN & PELVIS w/o contrast 1/>body re', '74261': 'CT ABDOMEN w/o contrast', '74262': 'CT ABDOMEN w/o contrast', '74263': 'CT ABDOMEN w/o contrast', '73636': 'CT BRAIN w/o contrast', '73731': 'CT BRAIN with contrast', '73827': 'CT BRAIN w/o & with contrast', '73922': 'CT ORBIT/SKULL without contrast', '74018': 'CT ORBITS/SKULL with contrast', '74113': 'CT ORBIT/SKULL w/o & with contrast', '74209': 'CT MAXILLOFACIAL without contrast', '74304': 'CT FACE with contrast', '74400': 'CT FACE w/o & with contrast', '74495': 'CT NECK SOFT TISSUE without contrast', '74591': 'CT NECT SOFT TISSUE with contrast'}\n",
      "72193 is ====>  CT PELVIS with contrast  <====\n",
      "Key for CT LUMBAR SPINE w/o & with contrast is ===> 72133\n",
      "Possible CT CPT codes with values containing, abdOmen ====> set()\n"
     ]
    }
   ],
   "source": [
    "#########################################################\n",
    "## Test CT dictionary and its functions (sam_2018_cpt_rad)\n",
    "#########################################################\n",
    "print(RAD_CPT_CT_dict)\n",
    "print(\"72193 is ====> \", RAD_CPT_CT_dict.get('72193'), \" <====\")\n",
    "print(\"Key for CT LUMBAR SPINE w/o & with contrast is ===>\", find_first_key_exact(RAD_CPT_CT_dict, 'CT LUMBAR SPINE w/o & with contrast'))\n",
    "print(\"Possible CT CPT codes with values containing, abdOmen ====>\", find_all_keys_containing(RAD_CPT_CT_dict, 'abdOmen'))"
   ]
  },
  {
   "cell_type": "code",
   "execution_count": 6,
   "metadata": {},
   "outputs": [
    {
     "name": "stdout",
     "output_type": "stream",
     "text": [
      "{'74210': 'FLUORO Upper Esophagram', '74220': 'FLUORO ESOPHAGUS EXAM', '74241': 'FLUORO UPPER GI SERIES', '74247': 'FLUORO UPPER GI TRACT WITH AIR', '74249': 'FLUORO UGI & SB WITH AIR', '74250': 'FLUORO SMALL BOWEL SERIES', '74270': 'FLUORO BARIUM ENEMA', '74280': 'FLUORO BARIUM ENEMA W/AIR CONT', '74400': 'FLUORO IVP'}\n",
      "74280 is ====>  FLUORO BARIUM ENEMA W/AIR CONT  <====\n",
      "Key for FLUORO BARIUM ENEMA W/AIR CONT is ===> 74280\n",
      "Possible FLUORO CPT codes with values containing, gi ====> set()\n"
     ]
    }
   ],
   "source": [
    "#########################################################\n",
    "## Test FLUORO dictionary and its functions (sam_2018_cpt_rad)\n",
    "#########################################################\n",
    "print(RAD_CPT_FLUORO_dict)\n",
    "print(\"74280 is ====> \", RAD_CPT_FLUORO_dict.get('74280'), \" <====\")\n",
    "print(\"Key for FLUORO BARIUM ENEMA W/AIR CONT is ===>\", find_first_key_exact(RAD_CPT_FLUORO_dict, 'FLUORO BARIUM ENEMA W/AIR CONT'))\n",
    "print(\"Possible FLUORO CPT codes with values containing, gi ====>\", find_all_keys_containing(RAD_CPT_FLUORO_dict, 'gi'))"
   ]
  },
  {
   "cell_type": "code",
   "execution_count": 7,
   "metadata": {},
   "outputs": [
    {
     "name": "stdout",
     "output_type": "stream",
     "text": [
      "{'77063': 'MAMMOGRAPHY 3D DIGITAL SCREENING', '77065': 'MAMMOGRAPHY-Diagnostic UNILATERAL', '77066': 'MAMMOGRAPHY-Diagnostic- BILATERAL', '77067': 'MAMMOGRAPHY SCREENING'}\n",
      "77066 is ====>  MAMMOGRAPHY-Diagnostic- BILATERAL  <====\n",
      "Key for MAMMOGRAPHY 3D DIGITAL SCREENING is ===> 77063\n",
      "Possible XRAY CPT codes with values containing, lateral ====> set()\n"
     ]
    }
   ],
   "source": [
    "#########################################################\n",
    "## Test MAMO dictionary and its functions (sam_2018_cpt_rad)\n",
    "#########################################################\n",
    "print(RAD_CPT_MAMO_dict)\n",
    "print(\"77066 is ====> \", RAD_CPT_MAMO_dict.get('77066'), \" <====\")\n",
    "print(\"Key for MAMMOGRAPHY 3D DIGITAL SCREENING is ===>\", find_first_key_exact(RAD_CPT_MAMO_dict, 'MAMMOGRAPHY 3D DIGITAL SCREENING'))\n",
    "print(\"Possible XRAY CPT codes with values containing, lateral ====>\", find_all_keys_containing(RAD_CPT_MAMO_dict, 'lateral'))"
   ]
  },
  {
   "cell_type": "code",
   "execution_count": 8,
   "metadata": {},
   "outputs": [
    {
     "name": "stdout",
     "output_type": "stream",
     "text": [
      "{'70336': 'MRI TEMPOROMANDIBULAR JOI', '70540': 'MRI SOFT TISSUE NECK,ORBIT without contrast', '70542': 'MRI SOFT TISSUE NECK,ORBIT with contrast', '70543': 'MRI NECK,ORBIT w/o & with contrast', '70544': 'MRA HEAD without contrast', '70545': 'MRA HEAD with contrast', '70546': 'MRA HEAD w/o & with contrast', '70547': 'MRA NECK without contrast', '70548': 'MRA NECK/CAROTID with contrast', '70549': 'MRA/NECK w/o & with contrast', '70551': 'MRI BRAIN without contrast', '70552': 'MRI BRAIN with contrast', '70553': 'MRI BRAIN w/o & with contrast', '71550': 'MRI CHEST without contrast', '71551': 'MRI CHEST with contrast', '71552': 'MRI CHEST w/o & with contrast', '71555': 'MRA CHEST', '72141': 'MRI CERV.SPINE without contrast', '72142': 'MRI CERV SPINE with contrast', '72146': 'MRI THORACIC without contrast', '72147': 'MRI THORACIC with contrast', '72148': 'MRI LUMBAR SPINE without contrast / MRI LUMBAR PLEXUS', '72149': 'MRI LUMBAR SPINE with contrast', '72156': 'MRI/CERV SPINE w/o & with contrast', '72157': 'MRI THORACIC w/o & with contrast', '72158': 'MRI LUMBAR SPINE w/o & with contrast', '72159': 'MRI SPINE Angiography', '72195': 'MRI PELVIS without contrast', '72196': 'MRI PELVIS with contrast', '72197': 'MRI PELVIS w/o & with contrast', '72198': 'MRA PELVIS', '73218': 'MRI UPPER EXT. NON JOINT without contrast', '73219': 'MRI UPPER EXT. NON JOINT with contrast', '73220': 'MRI UPPER EXT NON JOINT w/o & with contrast', '73221': 'MRI UPPER EXT. JOINT without contrast', '73222': 'MRI UPPER EXT JOINT with contrast', '73223': 'MRI UPPER JOINT w/o & with contrast', '73225': 'MRA UPPER EXTREMITY', '73718': 'MRI LOWER EXT without contrast', '73719': 'MRI LOWER EXT with contrast', '73720': 'MRI LOWER EX. w/o & with contrast', '73721': 'MRI LOWER EXT JOINT without contrast', '73722': 'MRI LOWER EXT JOINT with contrast', '73723': 'MRI/JOINT LOW EXTREMITY w/o & with contrast', '73725': 'MRA.ANGIO,LOWER EXTREMITY', '74181': 'MRI ABDOMEN without contrast', '74182': 'MRI/ABDOMEN with contrast', '74183': 'MRI ABD. w/o & with contr', '74185': 'MRA ABDOMEN', '77058': 'MRI BREAST UNILATERAL', '77059': 'MRI BREAST BILATERAL'}\n",
      "72147 is ====>  MRI THORACIC with contrast  <====\n",
      "Key for MRI LUMBAR SPINE without contrast / MRI LUMBAR PLEXUS is ===> 72148\n",
      "Possible MRI CPT codes with values containing, without contrast ====> set()\n"
     ]
    }
   ],
   "source": [
    "#########################################################\n",
    "## Test MRI dictionary and its functions (sam_2018_cpt_rad)\n",
    "#########################################################\n",
    "print(RAD_CPT_MRI_dict)\n",
    "print(\"72147 is ====> \", RAD_CPT_MRI_dict.get('72147'), \" <====\")\n",
    "print(\"Key for MRI LUMBAR SPINE without contrast / MRI LUMBAR PLEXUS is ===>\", \n",
    "      find_first_key_exact(RAD_CPT_MRI_dict, 'MRI LUMBAR SPINE without contrast / MRI LUMBAR PLEXUS'))\n",
    "print(\"Possible MRI CPT codes with values containing, without contrast ====>\", \n",
    "      find_all_keys_containing(RAD_CPT_MRI_dict, 'without contrast'))"
   ]
  },
  {
   "cell_type": "code",
   "execution_count": 9,
   "metadata": {},
   "outputs": [
    {
     "name": "stdout",
     "output_type": "stream",
     "text": [
      "{'78012': 'NUCLEAR EXAM THYROID (UPTAKE only)', '78014': 'NUCLEAR EXAM THYROID (WITH UPTAKE)', '78013': 'NUCLEAR EXAM THYROID (WITH IMAGING ONLY)', '78070': 'NUCLEAR EXAM PARATHYROID SCAN', '78071': 'NUCLEAR EXAM PARATHYROID SCAN with SPECT', '78206': 'NUCLEAR LIVER SCAN SPECT(HEMANGIOMA)', '78215': 'NUCLEAR LIVER/SPLEEN SCAN static', '78226': 'NUCLEAR HEPATOBILIARY SCAN', '78227': 'NUCLEAR HEPATOBILIARY SCAN WITH PHARM', '78290': 'NUCLEAR MECKELS SCAN', '78306': 'NUCLEAR BONE SCAN WHOLE BODY', '78315': 'NUCLEAR BONE SCAN 3 PHASE', '78320': 'NUCLEAR BONE SCAN SPECT', '78452': 'MyoCardial Perfusion Imaging/Pharmacologic with 93015', '78472': 'NUCLEAR MUGA SCAN CARDIA IMAGING', '78607': 'NUCLEAR Brain Spect (DaTscan)', '78707': 'NUCLEAR RENAL SCAN WITH MAG 3', '78708': 'NUCLEAR RENAL SCAN WITH LASIX OR CAPTOPRIL', '78800': 'NUCLEAR GALLIUM SCAN with 78803', '78804': 'NUCLEAR OCTREO SCAN with 78803', '78807': 'NUCLEAR SCAN FOR INFLAMATION with spect'}\n",
      "78452 is ====>  MyoCardial Perfusion Imaging/Pharmacologic with 93015  <====\n",
      "Key for X-RAY NUCLEAR HEPATOBILIARY SCAN WITH PHARM is ===> 78227\n",
      "Possible XRAY CPT codes with values containing, bone ====> set()\n"
     ]
    }
   ],
   "source": [
    "#########################################################\n",
    "## Test NUCLEAR dictionary and its functions (sam_2018_cpt_rad)\n",
    "#########################################################\n",
    "print(RAD_CPT_NUCLEAR_dict)\n",
    "print(\"78452 is ====> \", RAD_CPT_NUCLEAR_dict.get('78452'), \" <====\")\n",
    "print(\"Key for X-RAY NUCLEAR HEPATOBILIARY SCAN WITH PHARM is ===>\", \n",
    "      find_first_key_exact(RAD_CPT_NUCLEAR_dict, 'NUCLEAR HEPATOBILIARY SCAN WITH PHARM'))\n",
    "print(\"Possible XRAY CPT codes with values containing, bone ====>\", find_all_keys_containing(RAD_CPT_NUCLEAR_dict, 'bone'))"
   ]
  },
  {
   "cell_type": "code",
   "execution_count": 10,
   "metadata": {},
   "outputs": [
    {
     "name": "stdout",
     "output_type": "stream",
     "text": [
      "{'78608': 'PET BRAIN IMAG', '78814': 'PET SCAN WITH CT Limited', '78815': 'PET SCANN with CT Skull to mid thigh', '78816': 'PET SCAN with CT full body'}\n",
      "78815 is ====>  PET SCANN with CT Skull to mid thigh  <====\n",
      "Key for PET SCAN WITH CT Limited is ===> 78814\n",
      "Possible PET CPT codes with values containing, body ====> set()\n"
     ]
    }
   ],
   "source": [
    "#########################################################\n",
    "## Test PET dictionary and its functions (sam_2018_cpt_rad)\n",
    "#########################################################\n",
    "print(RAD_CPT_PET_dict)\n",
    "print(\"78815 is ====> \", RAD_CPT_PET_dict.get('78815'), \" <====\")\n",
    "print(\"Key for PET SCAN WITH CT Limited is ===>\", find_first_key_exact(RAD_CPT_PET_dict, 'PET SCAN WITH CT Limited'))\n",
    "print(\"Possible PET CPT codes with values containing, body ====>\", find_all_keys_containing(RAD_CPT_PET_dict, 'body'))"
   ]
  },
  {
   "cell_type": "code",
   "execution_count": 11,
   "metadata": {},
   "outputs": [
    {
     "name": "stdout",
     "output_type": "stream",
     "text": [
      "{'76506': 'U/S EXAM OF HEAD', '76536': 'U/S Soft Tissue Neck(thyroid,parathyroid,etc.)', '76604': 'U/S CHEST', '76641': 'U/S BREAST(uni or bi)', '76700': 'U/S ABDOMEN COMPLETE', '76705': 'U/S ABDOMEN(limited)', '76770': 'U/S RETRO(renal,aorta,nodes)', '76775': 'U/S RETRO-limited', '76776': 'U/S TRANSPLANTED KIDNEY', '76800': 'U/S ECHO EXAM SPINAL CANAL', '76801': 'U/S OB FIRST TRIMESTER', '76802': 'U/S OB/FIRST TRI/EACH ADD', '76805': 'U/S OB-GYN > 14 WEEKS', '76810': 'U/S OB > 14 WEEKS/EACH ADD', '76811': 'U/S OB MATERN/EVAL&DET EX', '76812': 'U/S OB MATERN/EVAL&DET EX/EACH ADD', '76813': 'U/S NUCHAL TRANSLUCENCY', '76814': 'U/S Nuchal Translucency/EACH ADD', '76815': 'U/S OB LIMITED', '76816': 'U/S OB LIMITED FOLLOW UP', '76817': 'U/S OB TRANSVAG', '76830': 'U/S TRANSVAGINAL', '76831': 'U/S HYSTEROGRAM WITH DOPPLER', '76856': 'U/S PELVIS-NON OB', '76857': 'U/S PELVIS-NON OB LIMITED', '76870': 'U/S SCROTUM with Doppler 93975', '76881': 'U/S EXTREMITY NON VASCULAR', '76882': 'U/S EXTREMITY NON VASCULAR LIMITED', '93880': 'U/S CAROTID DOPPLER/DUPLEX', '93926': 'U/S DUPLEX SCAN LOW EXT ARTERY r/o pseudo', '93970': 'U/S VENOUS DUPLEX/EXTREMITY', '93971': 'U/S VENOUS DUPLEX/EXTRM/UNILA', '93975': 'U/S DOPPLER,ABDOMINAL/PELVIC', '93976': 'U/S LIMITED STUDY DUPLEX SCAN', '93990': 'U/S DUPLEX SCAN OF HEMODIALYS'}\n",
      "76705 is ====>  U/S ABDOMEN(limited)  <====\n",
      "Key for U/S OB MATERN/EVAL&DET EX/EACH ADD is ===> 76812\n",
      "Possible US CPT codes with values containing, transvag ====> set()\n"
     ]
    }
   ],
   "source": [
    "#########################################################\n",
    "## Test US dictionary and its functions (sam_2018_cpt_rad)\n",
    "#########################################################\n",
    "print(RAD_CPT_US_dict)\n",
    "print(\"76705 is ====> \", RAD_CPT_US_dict.get('76705'), \" <====\")\n",
    "print(\"Key for U/S OB MATERN/EVAL&DET EX/EACH ADD is ===>\", find_first_key_exact(RAD_CPT_US_dict, 'U/S OB MATERN/EVAL&DET EX/EACH ADD'))\n",
    "print(\"Possible US CPT codes with values containing, transvag ====>\", find_all_keys_containing(RAD_CPT_US_dict, 'transvag'))"
   ]
  },
  {
   "cell_type": "code",
   "execution_count": 41,
   "metadata": {},
   "outputs": [
    {
     "name": "stdout",
     "output_type": "stream",
     "text": [
      "{'70030': 'X-RAY EYE FOR FOREIGN BOD', '70100': 'XRAY MANDIBLE < 4 VIEWS', '70110': 'X-RAY EXAM OF MANDIBLE 4 VIEWS', '70140': 'XRAY FACIAL BONES < 3VIEWS', '70150': 'X-RAY FACIAL BONES 3VIEWS', '70160': 'XRAY NASAL BONES 3 VIEWS+', '70210': 'XRAY SINUSES < 3 VIEWS', '70220': 'XRAY SINUSES 3 OR MORE VIEWS', '70250': 'XRAY SKULL < 4 VIEWS', '70260': 'XRAY SKULL 4VIEWS', '70360': 'XRAY NECK SOFT TISSUE', '71010': 'XRAY CHEST, ONE VIEW', '71020': 'XRAY CHEST, TWO VIEWS', '71021': 'XRAY CHEST W/APICAL LORDO', '71022': 'XRAY CHEST W/OBLIQUE PROJEC', '71023': 'XRAY CHEST W/FLUORO', '71030': 'XRAY CHEST 4 VIEWS', '71034': 'XRAY CHEST 4 VIEWS W/FLUOROS.', '71035': 'XRAY CHEST LATERAL DECUBITUS', '71100': 'XRAY RIBS,UNILAT.,TWO VIEWS', '71101': 'XRAY RIBS INCL CHEST 3 VI', '71110': 'XRAY RIB BILAT 3 VIEWS', '71111': 'XRAY RIBS BILATERAL INCL CHEST 4 VI', '71120': 'XRAY STERNUM 2 VIEWS', '71130': 'XRAY STERNO CLAVI JOINT 3 VIEWS', '72010': 'XRAY SPINE, ENTIRE AP & LAT', '72020': 'XRAY SPINE ONE VIEW', '72040': 'XRAY CERVICAL SPINE < 4 VIEWS', '72050': 'XRAY CERVICAL SPINE 4 or 5 VIEWS', '72052': 'XRAY SPINE CERV INCL OBLI 6VIEWS', '72069': 'XRAY SPINE THORACOLUMBAR SCOLIOSIS', '72070': 'XRAY THORACIC SPINE 2 VIEWS', '72072': 'XRAY SPINE THORACIC 3 VIE', '72074': 'XRAY SPINE THORACIC 4 VIE', '72080': 'XRAY SPINE THORACOLUMBAR', '72090': 'XRAY SCOLIOSIS STUDY ERECT & SUPINE', '72100': 'XRAY LUMBAR SPINE < 4 VIEWS', '72110': 'XRAY LUMBAR SPINE 4 VIEWS', '72114': 'X-RAY LUMBAR SPINE 6 VIEWS', '72120': 'X-RAY LUMBAR SPINE <4 VIEW', '72170': 'XRAY PELVIS 1 OR 2 VIEWS', '72190': 'XRAY PELVIS 3 VIEWS', '72200': 'XRAY SACROILIAC JOINTS < 3 VIEWS', '72202': 'XRAY SACROILIAC JOINTS 3VIEW', '72220': 'XRAY COCCYX/SACRUM 2VIEWS', '73000': 'XRAY CLAVICLE', '73010': 'XRAY SCAPULA, COMPLETE', '73020': 'XRAY SHOULDER MIN 1 VIEWS', '73030': 'XRAY SHOULDER 2 VIEWS', '73040': 'XRAY SHOULDER ARTHROGRAPHY', '73050': 'X-RAY ACOMIOCLAVICULAR JOINTS', '73060': 'XRAY HUMERUS 2 VIEWS', '73070': 'XRAY ELBOW TWO VIEWS', '73080': 'XRAY ELBOW THREE VIEWS', '73085': 'XRAY ELBOW ARTHROGRAPHY', '73090': 'XRAY FOREARM TWO VIEWS', '73092': 'X-RAY EXAM OF ARM, INFANT', '73100': 'XRAY WRIST 2 VIEWS', '73110': 'XRAY WRIST MIN 3 VIEWS', '73115': 'XRAY WRIST ARTHROGRAPHY', '73120': 'XRAY HAND 2 VIEWS', '73130': 'XRAY HAND MIN 3 VIEWS', '73140': 'XRAY FINGER 2 VIEWS', '73500': 'XRAY XRAY HIP 1 VIEW', '73510': 'XRAY HIP MIN TWO VIEWS', '73520': 'XRAY HIP BILAT TWO VIEWS', '73525': 'XRAY HIP ARTHROGRAPHY', '73540': 'X-RAY EXAM OF PELVIS INFANT OR CHILD', '73550': 'X-RAY FEMUR TWO VIEWS', '73560': 'X-RAY KNEE 1 OR 2 VIEWS', '73562': 'X-RAY KNEE-3 VIEWS', '73564': 'X-RAY EXAM OF KNEE 4 VIEWS', '73565': 'X-RAY KNEE,BILATERAL STANDING', '73580': 'X-RAY KNEE ARTHROGRAPHY', '73590': 'X-RAY TIBIA/FIBULA', '73592': 'X-RAY EXAM OF LEG, INFANT', '73600': 'X-RAY ANKLE', '73610': 'X-RAY ANKLE BILATERAL', '73615': 'X-RAY ANKLE ARTHROGRAPHY', '73620': 'X-RAY FOOT 2 VIEWS', '73630': 'X-RAY FOOT,COMPLETE', '73650': 'X-RAY HEEL,TWO VIEWS', '73660': 'X-RAY TOE(S)', '74000': 'X-RAY ABDOMEN AP VIEW', '74010': 'X-RAY EXAM OF ABDOMEN WITH OBLIQUE', '74020': 'X-RAY EXAM OF ABDOMEN SUPINE & ERECT', '74022': 'X-RAY ABDOMEN COMPLETE WITH AP CHEST', '76010': 'X-RAY, NOSE TO RECTUM CHILD', '77072': 'X-RAY BONE AGE STUDIES', '77073': 'X-RAY BONE LENGTH EVALUATION SCANOGRAM', '77074': 'X-RAY BONE SURVEY limited', '77075': 'X-RAY BONE SURVEY COMPLETE', '77076': 'X-RAY BONE EVALUATION infant', '77080': 'X-RAY DEXA/BONE DENSITY STUDY'}\n",
      "72220 is ====>  XRAY COCCYX/SACRUM 2VIEWS  <====\n",
      "Key for X-RAY EXAM OF ABDOMEN WITH OBLIQUE is ===> 74010\n",
      "Possible XRAY CPT codes with values containing, ABDOMEN ====> {'74022', '74010', '74020', '74000'}\n"
     ]
    }
   ],
   "source": [
    "#########################################################\n",
    "## Test XRAY dictionary and its functions (sam_2018_cpt_rad)\n",
    "#########################################################\n",
    "print(RAD_CPT_XRAY_dict)\n",
    "print(\"72220 is ====> \", RAD_CPT_XRAY_dict.get('72220'), \" <====\")\n",
    "print(\"Key for X-RAY EXAM OF ABDOMEN WITH OBLIQUE is ===>\", find_first_key_exact(RAD_CPT_XRAY_dict, 'X-RAY EXAM OF ABDOMEN WITH OBLIQUE'))\n",
    "print(\"Possible XRAY CPT codes with values containing, ABDOMEN ====>\", find_all_keys_containing(RAD_CPT_XRAY_dict, 'ABDOMEN'))"
   ]
  },
  {
   "cell_type": "code",
   "execution_count": null,
   "metadata": {},
   "outputs": [],
   "source": []
  },
  {
   "cell_type": "code",
   "execution_count": 57,
   "metadata": {},
   "outputs": [
    {
     "name": "stdout",
     "output_type": "stream",
     "text": [
      "77067  is ====>  MAMMOGRAPHY SCREENING  <====\n",
      "Possible MRI CPT codes with values containing, without contrast ====> {'77067'}\n"
     ]
    }
   ],
   "source": [
    "#########################################################\n",
    "## General Test dictionary and its functions (sam_2018_cpt_rad)\n",
    "#########################################################\n",
    "#print(RAD_CPT_XRAY_dict)\n",
    "searchval = '77067'\n",
    "print(searchval, \" is ====> \", RAD_CPT_MAMO_dict.get(searchval), \" <====\")\n",
    "#print(\"Key for MRI LUMBAR SPINE without contrast / MRI LUMBAR PLEXUS is ===>\", \n",
    "#      find_first_key_exact(RAD_CPT_MRI_dict, 'MRI LUMBAR SPINE without contrast / MRI LUMBAR PLEXUS'))\n",
    "print(\"Possible MRI CPT codes with values containing, without contrast ====>\", \n",
    "      find_all_keys_containing(RAD_CPT_MAMO_dict, 'mammography screening'))\n",
    "#list(RAD_CPT_XRAY_dict)"
   ]
  },
  {
   "cell_type": "code",
   "execution_count": 43,
   "metadata": {},
   "outputs": [
    {
     "data": {
      "text/plain": [
       "'MRI BRAIN w/o & with contrast'"
      ]
     },
     "execution_count": 43,
     "metadata": {},
     "output_type": "execute_result"
    }
   ],
   "source": [
    "RAD_CPT_MRI_dict.get('70553')"
   ]
  },
  {
   "cell_type": "code",
   "execution_count": 44,
   "metadata": {},
   "outputs": [
    {
     "data": {
      "text/plain": [
       "7"
      ]
     },
     "execution_count": 44,
     "metadata": {},
     "output_type": "execute_result"
    }
   ],
   "source": [
    "import nltk\n",
    "nltk.edit_distance('WITHOUT', 'w/o')"
   ]
  },
  {
   "cell_type": "code",
   "execution_count": null,
   "metadata": {},
   "outputs": [],
   "source": []
  },
  {
   "cell_type": "code",
   "execution_count": null,
   "metadata": {},
   "outputs": [],
   "source": []
  },
  {
   "cell_type": "code",
   "execution_count": null,
   "metadata": {},
   "outputs": [],
   "source": []
  }
 ],
 "metadata": {
  "kernelspec": {
   "display_name": "Python 3",
   "language": "python",
   "name": "python3"
  },
  "language_info": {
   "codemirror_mode": {
    "name": "ipython",
    "version": 3
   },
   "file_extension": ".py",
   "mimetype": "text/x-python",
   "name": "python",
   "nbconvert_exporter": "python",
   "pygments_lexer": "ipython3",
   "version": "3.7.3"
  }
 },
 "nbformat": 4,
 "nbformat_minor": 2
}
